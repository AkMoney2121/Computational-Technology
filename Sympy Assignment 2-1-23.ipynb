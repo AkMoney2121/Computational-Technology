{
 "cells": [
  {
   "cell_type": "code",
   "execution_count": 59,
   "id": "0741096e",
   "metadata": {},
   "outputs": [],
   "source": [
    "import sympy\n",
    "from sympy import *\n",
    "from sympy.solvers import solve\n",
    "from sympy import Symbol\n",
    "from sympy.plotting import plot"
   ]
  },
  {
   "cell_type": "code",
   "execution_count": 7,
   "id": "35514348",
   "metadata": {},
   "outputs": [],
   "source": [
    "# 1) Solve an Algebraic Equation"
   ]
  },
  {
   "cell_type": "code",
   "execution_count": 9,
   "id": "cac633f3",
   "metadata": {},
   "outputs": [
    {
     "data": {
      "text/plain": [
       "[-4, 1]"
      ]
     },
     "execution_count": 9,
     "metadata": {},
     "output_type": "execute_result"
    }
   ],
   "source": [
    "x = Symbol(\"x\")\n",
    "solve(x**2 + 3*x -4, x)"
   ]
  },
  {
   "cell_type": "code",
   "execution_count": 10,
   "id": "7a9d7ffe",
   "metadata": {},
   "outputs": [],
   "source": [
    "# 2) Solve a System of Linear Equations"
   ]
  },
  {
   "cell_type": "code",
   "execution_count": 22,
   "id": "fa02b66c",
   "metadata": {},
   "outputs": [
    {
     "data": {
      "text/plain": [
       "{x: 1/2, y: 1/2}"
      ]
     },
     "execution_count": 22,
     "metadata": {},
     "output_type": "execute_result"
    }
   ],
   "source": [
    "solve((3*x + 5*y -4, 4*x -8*y +2), x, y)"
   ]
  },
  {
   "cell_type": "code",
   "execution_count": 23,
   "id": "7f4f13a7",
   "metadata": {},
   "outputs": [],
   "source": [
    "# 3) Solve a non-linear Equation"
   ]
  },
  {
   "cell_type": "code",
   "execution_count": 32,
   "id": "ace5d501",
   "metadata": {},
   "outputs": [
    {
     "data": {
      "text/plain": [
       "[4, -I, I]"
      ]
     },
     "execution_count": 32,
     "metadata": {},
     "output_type": "execute_result"
    }
   ],
   "source": [
    "x = Symbol(\"x\")\n",
    "solve(x**3 - 4*x**2 + x - 4, x)"
   ]
  },
  {
   "cell_type": "code",
   "execution_count": 33,
   "id": "6efae918",
   "metadata": {},
   "outputs": [],
   "source": [
    "# 4) Find the Limits of the Following:"
   ]
  },
  {
   "cell_type": "code",
   "execution_count": 34,
   "id": "bea894b0",
   "metadata": {},
   "outputs": [],
   "source": [
    "    # a) sin(x)/x as x approaches 0"
   ]
  },
  {
   "cell_type": "code",
   "execution_count": 36,
   "id": "6f490ad6",
   "metadata": {},
   "outputs": [
    {
     "data": {
      "text/latex": [
       "$\\displaystyle 1$"
      ],
      "text/plain": [
       "1"
      ]
     },
     "execution_count": 36,
     "metadata": {},
     "output_type": "execute_result"
    }
   ],
   "source": [
    "limit(sin(x) / x, x, 0)"
   ]
  },
  {
   "cell_type": "code",
   "execution_count": 37,
   "id": "8e3aeaf8",
   "metadata": {},
   "outputs": [],
   "source": [
    "    # b) (e^x - 1)/x as x approaches 0"
   ]
  },
  {
   "cell_type": "code",
   "execution_count": 40,
   "id": "9f3e4c93",
   "metadata": {},
   "outputs": [
    {
     "data": {
      "text/latex": [
       "$\\displaystyle 1$"
      ],
      "text/plain": [
       "1"
      ]
     },
     "execution_count": 40,
     "metadata": {},
     "output_type": "execute_result"
    }
   ],
   "source": [
    "limit((exp(x) - 1) / x, x, 0)"
   ]
  },
  {
   "cell_type": "code",
   "execution_count": 41,
   "id": "139c13e4",
   "metadata": {},
   "outputs": [],
   "source": [
    "    # c) x^2(sin(1/x)) as x approaches 0"
   ]
  },
  {
   "cell_type": "code",
   "execution_count": 43,
   "id": "c457a8dc",
   "metadata": {},
   "outputs": [
    {
     "data": {
      "text/latex": [
       "$\\displaystyle 0$"
      ],
      "text/plain": [
       "0"
      ]
     },
     "execution_count": 43,
     "metadata": {},
     "output_type": "execute_result"
    }
   ],
   "source": [
    "limit((x**2) * sin(1/x), x, 0)"
   ]
  },
  {
   "cell_type": "code",
   "execution_count": 44,
   "id": "e2854601",
   "metadata": {},
   "outputs": [],
   "source": [
    "    # d) sin(3x)/x as x approaches 0"
   ]
  },
  {
   "cell_type": "code",
   "execution_count": 45,
   "id": "53071daa",
   "metadata": {},
   "outputs": [
    {
     "data": {
      "text/latex": [
       "$\\displaystyle 3$"
      ],
      "text/plain": [
       "3"
      ]
     },
     "execution_count": 45,
     "metadata": {},
     "output_type": "execute_result"
    }
   ],
   "source": [
    "limit(sin(3*x)/x, x, 0)"
   ]
  },
  {
   "cell_type": "code",
   "execution_count": 46,
   "id": "52566550",
   "metadata": {},
   "outputs": [],
   "source": [
    "# 5) Find the Derivative of Six Basic Trigonometric Functions"
   ]
  },
  {
   "cell_type": "code",
   "execution_count": 48,
   "id": "4b86073b",
   "metadata": {},
   "outputs": [
    {
     "data": {
      "text/latex": [
       "$\\displaystyle \\cos{\\left(x \\right)}$"
      ],
      "text/plain": [
       "cos(x)"
      ]
     },
     "execution_count": 48,
     "metadata": {},
     "output_type": "execute_result"
    }
   ],
   "source": [
    "diff(sin(x), x)"
   ]
  },
  {
   "cell_type": "code",
   "execution_count": 49,
   "id": "89a00236",
   "metadata": {},
   "outputs": [
    {
     "data": {
      "text/latex": [
       "$\\displaystyle - \\sin{\\left(x \\right)}$"
      ],
      "text/plain": [
       "-sin(x)"
      ]
     },
     "execution_count": 49,
     "metadata": {},
     "output_type": "execute_result"
    }
   ],
   "source": [
    "diff(cos(x), x)"
   ]
  },
  {
   "cell_type": "code",
   "execution_count": 53,
   "id": "76cf5da3",
   "metadata": {},
   "outputs": [
    {
     "data": {
      "text/latex": [
       "$\\displaystyle \\frac{1}{\\cos^{2}{\\left(x \\right)}}$"
      ],
      "text/plain": [
       "cos(x)**(-2)"
      ]
     },
     "execution_count": 53,
     "metadata": {},
     "output_type": "execute_result"
    }
   ],
   "source": [
    "(simplify(diff(tan(x), x))"
   ]
  },
  {
   "cell_type": "code",
   "execution_count": 54,
   "id": "db60a427",
   "metadata": {},
   "outputs": [
    {
     "data": {
      "text/latex": [
       "$\\displaystyle - \\cot{\\left(x \\right)} \\csc{\\left(x \\right)}$"
      ],
      "text/plain": [
       "-cot(x)*csc(x)"
      ]
     },
     "execution_count": 54,
     "metadata": {},
     "output_type": "execute_result"
    }
   ],
   "source": [
    "diff(csc(x), x)"
   ]
  },
  {
   "cell_type": "code",
   "execution_count": 55,
   "id": "66d71370",
   "metadata": {},
   "outputs": [
    {
     "data": {
      "text/latex": [
       "$\\displaystyle \\tan{\\left(x \\right)} \\sec{\\left(x \\right)}$"
      ],
      "text/plain": [
       "tan(x)*sec(x)"
      ]
     },
     "execution_count": 55,
     "metadata": {},
     "output_type": "execute_result"
    }
   ],
   "source": [
    "diff(sec(x), x)"
   ]
  },
  {
   "cell_type": "code",
   "execution_count": 56,
   "id": "d817b42e",
   "metadata": {},
   "outputs": [
    {
     "data": {
      "text/latex": [
       "$\\displaystyle - \\cot^{2}{\\left(x \\right)} - 1$"
      ],
      "text/plain": [
       "-cot(x)**2 - 1"
      ]
     },
     "execution_count": 56,
     "metadata": {},
     "output_type": "execute_result"
    }
   ],
   "source": [
    "diff(cot(x), x)"
   ]
  },
  {
   "cell_type": "code",
   "execution_count": 57,
   "id": "f7ae4a56",
   "metadata": {},
   "outputs": [],
   "source": [
    "# 6) Find the Values of Integral(sin(x)dx) from 0 to pi. Graph the Function in the indicated interval"
   ]
  },
  {
   "cell_type": "code",
   "execution_count": 58,
   "id": "bdd31e76",
   "metadata": {},
   "outputs": [
    {
     "data": {
      "text/latex": [
       "$\\displaystyle 2$"
      ],
      "text/plain": [
       "2"
      ]
     },
     "execution_count": 58,
     "metadata": {},
     "output_type": "execute_result"
    }
   ],
   "source": [
    "integrate(sin(x), (x, 0, pi))"
   ]
  },
  {
   "cell_type": "code",
   "execution_count": 64,
   "id": "8aa91c1d",
   "metadata": {},
   "outputs": [
    {
     "data": {
      "image/png": "[encoded data removed]",
      "text/plain": [
       "<Figure size 640x480 with 1 Axes>"
      ]
     },
     "metadata": {},
     "output_type": "display_data"
    }
   ],
   "source": [
    "y = plot(sin(x), (x, 0, pi))"
   ]
  },
  {
   "cell_type": "code",
   "execution_count": 65,
   "id": "e5f73a06",
   "metadata": {},
   "outputs": [],
   "source": [
    "# 7) Find the Value of Integral(e^(-x^2)dx) from 0 to 1"
   ]
  },
  {
   "cell_type": "code",
   "execution_count": 66,
   "id": "e4dff8ed",
   "metadata": {},
   "outputs": [
    {
     "data": {
      "text/latex": [
       "$\\displaystyle \\frac{\\sqrt{\\pi} \\operatorname{erf}{\\left(1 \\right)}}{2}$"
      ],
      "text/plain": [
       "sqrt(pi)*erf(1)/2"
      ]
     },
     "execution_count": 66,
     "metadata": {},
     "output_type": "execute_result"
    }
   ],
   "source": [
    "integrate(exp(-x**2), (x, 0, 1))"
   ]
  },
  {
   "cell_type": "code",
   "execution_count": 67,
   "id": "e23c534c",
   "metadata": {},
   "outputs": [
    {
     "data": {
      "image/png": "[encoded data removed]",
      "text/plain": [
       "<Figure size 640x480 with 1 Axes>"
      ]
     },
     "metadata": {},
     "output_type": "display_data"
    },
    {
     "data": {
      "text/plain": [
       "<sympy.plotting.plot.Plot at 0x11c85c3a0>"
      ]
     },
     "execution_count": 67,
     "metadata": {},
     "output_type": "execute_result"
    }
   ],
   "source": [
    "plot(exp(-x**2), (x, 0, 1))"
   ]
  },
  {
   "cell_type": "code",
   "execution_count": 68,
   "id": "097038ad",
   "metadata": {},
   "outputs": [],
   "source": [
    "# 8) Solve the Differential Equation y\" + 4y = cos(x)"
   ]
  },
  {
   "cell_type": "code",
   "execution_count": 88,
   "id": "35419fc3",
   "metadata": {},
   "outputs": [
    {
     "data": {
      "text/latex": [
       "$\\displaystyle y{\\left(x \\right)} = C_{1} \\sin{\\left(2 x \\right)} + C_{2} \\cos{\\left(2 x \\right)} + \\frac{\\cos{\\left(x \\right)}}{3}$"
      ],
      "text/plain": [
       "Eq(y(x), C1*sin(2*x) + C2*cos(2*x) + cos(x)/3)"
      ]
     },
     "execution_count": 88,
     "metadata": {},
     "output_type": "execute_result"
    }
   ],
   "source": [
    "y = Function(\"y\")\n",
    "dsolve(diff(y(x), x, x) + 4*y(x) - cos(x))"
   ]
  }
 ],
 "metadata": {
  "kernelspec": {
   "display_name": "Python 3 (ipykernel)",
   "language": "python",
   "name": "python3"
  },
  "language_info": {
   "codemirror_mode": {
    "name": "ipython",
    "version": 3
   },
   "file_extension": ".py",
   "mimetype": "text/x-python",
   "name": "python",
   "nbconvert_exporter": "python",
   "pygments_lexer": "ipython3",
   "version": "3.9.13"
  }
 },
 "nbformat": 4,
 "nbformat_minor": 5
}
